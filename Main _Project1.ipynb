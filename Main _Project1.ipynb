{
 "cells": [
  {
   "cell_type": "code",
   "execution_count": 1,
   "metadata": {},
   "outputs": [],
   "source": [
    "import pandas as pd\n",
    "import seaborn as sns\n",
    "import matplotlib.pyplot as plt\n"
   ]
  },
  {
   "cell_type": "code",
   "execution_count": 2,
   "metadata": {},
   "outputs": [],
   "source": [
    "# read the database\n",
    "android = pd.read_csv('android-games.csv')"
   ]
  },
  {
   "cell_type": "code",
   "execution_count": 3,
   "metadata": {},
   "outputs": [
    {
     "data": {
      "text/html": [
       "<div>\n",
       "<style scoped>\n",
       "    .dataframe tbody tr th:only-of-type {\n",
       "        vertical-align: middle;\n",
       "    }\n",
       "\n",
       "    .dataframe tbody tr th {\n",
       "        vertical-align: top;\n",
       "    }\n",
       "\n",
       "    .dataframe thead th {\n",
       "        text-align: right;\n",
       "    }\n",
       "</style>\n",
       "<table border=\"1\" class=\"dataframe\">\n",
       "  <thead>\n",
       "    <tr style=\"text-align: right;\">\n",
       "      <th></th>\n",
       "      <th>rank</th>\n",
       "      <th>title</th>\n",
       "      <th>total ratings</th>\n",
       "      <th>installs</th>\n",
       "      <th>average rating</th>\n",
       "      <th>growth (30 days)</th>\n",
       "      <th>growth (60 days)</th>\n",
       "      <th>price</th>\n",
       "      <th>category</th>\n",
       "      <th>5 star ratings</th>\n",
       "      <th>4 star ratings</th>\n",
       "      <th>3 star ratings</th>\n",
       "      <th>2 star ratings</th>\n",
       "      <th>1 star ratings</th>\n",
       "      <th>paid</th>\n",
       "    </tr>\n",
       "  </thead>\n",
       "  <tbody>\n",
       "    <tr>\n",
       "      <th>0</th>\n",
       "      <td>1</td>\n",
       "      <td>Garena Free Fire - The Cobra</td>\n",
       "      <td>80678661</td>\n",
       "      <td>500.0 M</td>\n",
       "      <td>4.33</td>\n",
       "      <td>2.9</td>\n",
       "      <td>7.9</td>\n",
       "      <td>0.0</td>\n",
       "      <td>GAME ACTION</td>\n",
       "      <td>61935712</td>\n",
       "      <td>4478738</td>\n",
       "      <td>2795172</td>\n",
       "      <td>1814999</td>\n",
       "      <td>9654037</td>\n",
       "      <td>False</td>\n",
       "    </tr>\n",
       "    <tr>\n",
       "      <th>1</th>\n",
       "      <td>2</td>\n",
       "      <td>PUBG MOBILE: Graffiti Prank</td>\n",
       "      <td>35971961</td>\n",
       "      <td>100.0 M</td>\n",
       "      <td>4.24</td>\n",
       "      <td>2.0</td>\n",
       "      <td>3.1</td>\n",
       "      <td>0.0</td>\n",
       "      <td>GAME ACTION</td>\n",
       "      <td>26670566</td>\n",
       "      <td>2109631</td>\n",
       "      <td>1352610</td>\n",
       "      <td>893674</td>\n",
       "      <td>4945478</td>\n",
       "      <td>False</td>\n",
       "    </tr>\n",
       "    <tr>\n",
       "      <th>2</th>\n",
       "      <td>3</td>\n",
       "      <td>Mobile Legends: Bang Bang</td>\n",
       "      <td>25836869</td>\n",
       "      <td>100.0 M</td>\n",
       "      <td>4.08</td>\n",
       "      <td>1.6</td>\n",
       "      <td>3.3</td>\n",
       "      <td>0.0</td>\n",
       "      <td>GAME ACTION</td>\n",
       "      <td>17850942</td>\n",
       "      <td>1796761</td>\n",
       "      <td>1066095</td>\n",
       "      <td>725429</td>\n",
       "      <td>4397640</td>\n",
       "      <td>False</td>\n",
       "    </tr>\n",
       "    <tr>\n",
       "      <th>3</th>\n",
       "      <td>4</td>\n",
       "      <td>Brawl Stars</td>\n",
       "      <td>17181659</td>\n",
       "      <td>100.0 M</td>\n",
       "      <td>4.27</td>\n",
       "      <td>4.1</td>\n",
       "      <td>6.6</td>\n",
       "      <td>0.0</td>\n",
       "      <td>GAME ACTION</td>\n",
       "      <td>12493668</td>\n",
       "      <td>1474319</td>\n",
       "      <td>741410</td>\n",
       "      <td>383478</td>\n",
       "      <td>2088781</td>\n",
       "      <td>False</td>\n",
       "    </tr>\n",
       "    <tr>\n",
       "      <th>4</th>\n",
       "      <td>5</td>\n",
       "      <td>Sniper 3D: Fun Free Online FPS Shooting Game</td>\n",
       "      <td>14237554</td>\n",
       "      <td>100.0 M</td>\n",
       "      <td>4.33</td>\n",
       "      <td>0.8</td>\n",
       "      <td>1.8</td>\n",
       "      <td>0.0</td>\n",
       "      <td>GAME ACTION</td>\n",
       "      <td>9657878</td>\n",
       "      <td>2124544</td>\n",
       "      <td>1034025</td>\n",
       "      <td>375159</td>\n",
       "      <td>1045945</td>\n",
       "      <td>False</td>\n",
       "    </tr>\n",
       "  </tbody>\n",
       "</table>\n",
       "</div>"
      ],
      "text/plain": [
       "   rank                                         title  total ratings installs  \\\n",
       "0     1                  Garena Free Fire - The Cobra       80678661  500.0 M   \n",
       "1     2                   PUBG MOBILE: Graffiti Prank       35971961  100.0 M   \n",
       "2     3                     Mobile Legends: Bang Bang       25836869  100.0 M   \n",
       "3     4                                   Brawl Stars       17181659  100.0 M   \n",
       "4     5  Sniper 3D: Fun Free Online FPS Shooting Game       14237554  100.0 M   \n",
       "\n",
       "   average rating  growth (30 days)  growth (60 days)  price     category  \\\n",
       "0            4.33               2.9               7.9    0.0  GAME ACTION   \n",
       "1            4.24               2.0               3.1    0.0  GAME ACTION   \n",
       "2            4.08               1.6               3.3    0.0  GAME ACTION   \n",
       "3            4.27               4.1               6.6    0.0  GAME ACTION   \n",
       "4            4.33               0.8               1.8    0.0  GAME ACTION   \n",
       "\n",
       "   5 star ratings  4 star ratings  3 star ratings  2 star ratings  \\\n",
       "0        61935712         4478738         2795172         1814999   \n",
       "1        26670566         2109631         1352610          893674   \n",
       "2        17850942         1796761         1066095          725429   \n",
       "3        12493668         1474319          741410          383478   \n",
       "4         9657878         2124544         1034025          375159   \n",
       "\n",
       "   1 star ratings   paid  \n",
       "0         9654037  False  \n",
       "1         4945478  False  \n",
       "2         4397640  False  \n",
       "3         2088781  False  \n",
       "4         1045945  False  "
      ]
     },
     "execution_count": 3,
     "metadata": {},
     "output_type": "execute_result"
    }
   ],
   "source": [
    "android.head()"
   ]
  },
  {
   "cell_type": "markdown",
   "metadata": {},
   "source": [
    "#1 highest ratings"
   ]
  },
  {
   "cell_type": "code",
   "execution_count": 4,
   "metadata": {},
   "outputs": [
    {
     "name": "stdout",
     "output_type": "stream",
     "text": [
      "[132820159]\n",
      "[132820159, 115159158]\n",
      "[132820159, 115159158, 108705138]\n"
     ]
    }
   ],
   "source": [
    "# to find the highest ratings\n",
    "soup = []\n",
    "for s in android['total ratings']:\n",
    "    if s >= 100000000:\n",
    "        soup.append(s)\n",
    "        print(soup)"
   ]
  },
  {
   "cell_type": "code",
   "execution_count": 5,
   "metadata": {},
   "outputs": [],
   "source": [
    "#to find the index with the higest rating\n",
    "index = []\n",
    "\n",
    "net=0\n",
    "for x in android['total ratings']:\n",
    "    if x >= 100000000 :\n",
    "        index.append(net)\n",
    "    net+= 1"
   ]
  },
  {
   "cell_type": "code",
   "execution_count": 6,
   "metadata": {},
   "outputs": [
    {
     "data": {
      "text/plain": [
       "[824, 825, 826]"
      ]
     },
     "execution_count": 6,
     "metadata": {},
     "output_type": "execute_result"
    }
   ],
   "source": [
    "index"
   ]
  },
  {
   "cell_type": "code",
   "execution_count": 7,
   "metadata": {},
   "outputs": [
    {
     "data": {
      "text/html": [
       "<div>\n",
       "<style scoped>\n",
       "    .dataframe tbody tr th:only-of-type {\n",
       "        vertical-align: middle;\n",
       "    }\n",
       "\n",
       "    .dataframe tbody tr th {\n",
       "        vertical-align: top;\n",
       "    }\n",
       "\n",
       "    .dataframe thead th {\n",
       "        text-align: right;\n",
       "    }\n",
       "</style>\n",
       "<table border=\"1\" class=\"dataframe\">\n",
       "  <thead>\n",
       "    <tr style=\"text-align: right;\">\n",
       "      <th></th>\n",
       "      <th>rank</th>\n",
       "      <th>title</th>\n",
       "      <th>total ratings</th>\n",
       "      <th>installs</th>\n",
       "      <th>average rating</th>\n",
       "      <th>growth (30 days)</th>\n",
       "      <th>growth (60 days)</th>\n",
       "      <th>price</th>\n",
       "      <th>category</th>\n",
       "      <th>5 star ratings</th>\n",
       "      <th>4 star ratings</th>\n",
       "      <th>3 star ratings</th>\n",
       "      <th>2 star ratings</th>\n",
       "      <th>1 star ratings</th>\n",
       "      <th>paid</th>\n",
       "    </tr>\n",
       "  </thead>\n",
       "  <tbody>\n",
       "    <tr>\n",
       "      <th>824</th>\n",
       "      <td>1</td>\n",
       "      <td>WhatsApp Messenger</td>\n",
       "      <td>132820159</td>\n",
       "      <td>5000.0 M</td>\n",
       "      <td>4.16</td>\n",
       "      <td>1.3</td>\n",
       "      <td>2.8</td>\n",
       "      <td>0.0</td>\n",
       "      <td>GAME FAMILY</td>\n",
       "      <td>89826657</td>\n",
       "      <td>13399678</td>\n",
       "      <td>7742411</td>\n",
       "      <td>4404948</td>\n",
       "      <td>17446463</td>\n",
       "      <td>False</td>\n",
       "    </tr>\n",
       "    <tr>\n",
       "      <th>825</th>\n",
       "      <td>2</td>\n",
       "      <td>Instagram</td>\n",
       "      <td>115159158</td>\n",
       "      <td>1000.0 M</td>\n",
       "      <td>4.35</td>\n",
       "      <td>1.2</td>\n",
       "      <td>2.4</td>\n",
       "      <td>0.0</td>\n",
       "      <td>GAME FAMILY</td>\n",
       "      <td>84694156</td>\n",
       "      <td>11188324</td>\n",
       "      <td>5387770</td>\n",
       "      <td>3002076</td>\n",
       "      <td>10886830</td>\n",
       "      <td>False</td>\n",
       "    </tr>\n",
       "    <tr>\n",
       "      <th>826</th>\n",
       "      <td>3</td>\n",
       "      <td>Facebook</td>\n",
       "      <td>108705138</td>\n",
       "      <td>5000.0 M</td>\n",
       "      <td>4.07</td>\n",
       "      <td>0.7</td>\n",
       "      <td>1.6</td>\n",
       "      <td>0.0</td>\n",
       "      <td>GAME FAMILY</td>\n",
       "      <td>71703602</td>\n",
       "      <td>10086692</td>\n",
       "      <td>6314913</td>\n",
       "      <td>3740935</td>\n",
       "      <td>16858993</td>\n",
       "      <td>False</td>\n",
       "    </tr>\n",
       "  </tbody>\n",
       "</table>\n",
       "</div>"
      ],
      "text/plain": [
       "     rank               title  total ratings  installs  average rating  \\\n",
       "824     1  WhatsApp Messenger      132820159  5000.0 M            4.16   \n",
       "825     2           Instagram      115159158  1000.0 M            4.35   \n",
       "826     3            Facebook      108705138  5000.0 M            4.07   \n",
       "\n",
       "     growth (30 days)  growth (60 days)  price     category  5 star ratings  \\\n",
       "824               1.3               2.8    0.0  GAME FAMILY        89826657   \n",
       "825               1.2               2.4    0.0  GAME FAMILY        84694156   \n",
       "826               0.7               1.6    0.0  GAME FAMILY        71703602   \n",
       "\n",
       "     4 star ratings  3 star ratings  2 star ratings  1 star ratings   paid  \n",
       "824        13399678         7742411         4404948        17446463  False  \n",
       "825        11188324         5387770         3002076        10886830  False  \n",
       "826        10086692         6314913         3740935        16858993  False  "
      ]
     },
     "execution_count": 7,
     "metadata": {},
     "output_type": "execute_result"
    }
   ],
   "source": [
    "#the games with the highest ratings\n",
    "bum = android.iloc[824:827]\n",
    "bum"
   ]
  },
  {
   "cell_type": "markdown",
   "metadata": {},
   "source": [
    "#2 plot a gragh showing the highest to the lowest game installed according to their rate"
   ]
  },
  {
   "cell_type": "code",
   "execution_count": 8,
   "metadata": {},
   "outputs": [],
   "source": [
    "highest = android['installs']\n",
    "lowest = android['total ratings']"
   ]
  },
  {
   "cell_type": "code",
   "execution_count": 9,
   "metadata": {},
   "outputs": [
    {
     "data": {
      "image/png": "[encoded data removed]",
      "text/plain": [
       "<Figure size 720x432 with 1 Axes>"
      ]
     },
     "metadata": {
      "needs_background": "light"
     },
     "output_type": "display_data"
    }
   ],
   "source": [
    "plt.figure(figsize=(10,6))\n",
    "plt.bar(highest,'total ratings',data=android)\n",
    "plt.xlabel('install')\n",
    "plt.ylabel('total ratings')\n",
    "plt.title('showing the ')\n",
    "plt.savefig('bar')"
   ]
  },
  {
   "cell_type": "code",
   "execution_count": 10,
   "metadata": {},
   "outputs": [],
   "source": [
    "#4Create a chart showing the rankings per category (only categories with an average of 90000 ratings above)"
   ]
  },
  {
   "cell_type": "code",
   "execution_count": 11,
   "metadata": {},
   "outputs": [
    {
     "data": {
      "text/plain": [
       "array(['GAME ACTION', 'GAME ADVENTURE', 'GAME ARCADE', 'GAME BOARD',\n",
       "       'GAME CARD', 'GAME CASINO', 'GAME CASUAL', 'GAME EDUCATIONAL',\n",
       "       'GAME FAMILY', 'GAME MUSIC', 'GAME PUZZLE', 'GAME RACING',\n",
       "       'GAME ROLE PLAYING', 'GAME SIMULATION', 'GAME SPORTS',\n",
       "       'GAME STRATEGY', 'GAME TRIVIA', 'GAME WORD'], dtype=object)"
      ]
     },
     "execution_count": 11,
     "metadata": {},
     "output_type": "execute_result"
    }
   ],
   "source": [
    "#to know all the names of game category \n",
    "android['category'].unique()"
   ]
  },
  {
   "cell_type": "code",
   "execution_count": 12,
   "metadata": {},
   "outputs": [],
   "source": [
    "import numpy as np\n",
    "n_index = []\n",
    "\n",
    "net1=0\n",
    "for x in android['category']:\n",
    "    if x == 'GAME WORD' :\n",
    "        n_index.append(net1)\n",
    "    net1+= 1\n"
   ]
  },
  {
   "cell_type": "code",
   "execution_count": 13,
   "metadata": {},
   "outputs": [
    {
     "name": "stdout",
     "output_type": "stream",
     "text": [
      "the average of category GAME WORD IS 422584.3142857143\n"
     ]
    }
   ],
   "source": [
    "tum = android[1724:1829]\n",
    "lim = tum['total ratings']\n",
    "l = np.average(lim)\n",
    "print(f'the average of category GAME WORD IS {l}')\n"
   ]
  },
  {
   "cell_type": "code",
   "execution_count": 14,
   "metadata": {},
   "outputs": [],
   "source": [
    "s_index = []\n",
    "\n",
    "net2=0\n",
    "for x in android['category']:\n",
    "    if x == 'GAME TRIVIA' :\n",
    "        s_index.append(net2)\n",
    "    net2+= 1\n"
   ]
  },
  {
   "cell_type": "code",
   "execution_count": 15,
   "metadata": {},
   "outputs": [
    {
     "name": "stdout",
     "output_type": "stream",
     "text": [
      "the average of category GAME TRIVIA IS 301191.0909090909\n"
     ]
    }
   ],
   "source": [
    "A_ind = android[1624:1723]\n",
    "lit = A_ind['total ratings']\n",
    "l2 = np.average(lit)\n",
    "r = l2<900000\n",
    "print(f'the average of category GAME TRIVIA IS {l2}')"
   ]
  },
  {
   "cell_type": "code",
   "execution_count": 16,
   "metadata": {},
   "outputs": [],
   "source": [
    "gs_index = []\n",
    "\n",
    "net3=0\n",
    "for x in android['category']:\n",
    "    if x == 'GAME STRATEGY' :\n",
    "        gs_index.append(net3)\n",
    "    net3+= 1\n"
   ]
  },
  {
   "cell_type": "code",
   "execution_count": 17,
   "metadata": {},
   "outputs": [
    {
     "name": "stdout",
     "output_type": "stream",
     "text": [
      "the average of category GAME STRATEGY IS 1850518.98989899\n"
     ]
    }
   ],
   "source": [
    "gs_ind = android[1524:1623]\n",
    "lent = gs_ind['total ratings']\n",
    "l3 = np.average(lent)\n",
    "print(f'the average of category GAME STRATEGY IS {l3}')"
   ]
  },
  {
   "cell_type": "code",
   "execution_count": 18,
   "metadata": {},
   "outputs": [],
   "source": [
    "gsp_index = []\n",
    "\n",
    "net4=0\n",
    "for x in android['category']:\n",
    "    if x == 'GAME SPORTS' :\n",
    "        gsp_index.append(net4)\n",
    "    net4+= 1"
   ]
  },
  {
   "cell_type": "code",
   "execution_count": 19,
   "metadata": {},
   "outputs": [
    {
     "name": "stdout",
     "output_type": "stream",
     "text": [
      "the average of category GAME SPORTS IS 1267085.1717171718\n"
     ]
    }
   ],
   "source": [
    "c_ind = android[1424:1523]\n",
    "lem = c_ind['total ratings']\n",
    "l4 = np.average(lem)\n",
    "print(f'the average of category GAME SPORTS IS {l4}')\n",
    "\n"
   ]
  },
  {
   "cell_type": "code",
   "execution_count": 20,
   "metadata": {},
   "outputs": [],
   "source": [
    "gst_index = []\n",
    "\n",
    "net5=0\n",
    "for x in android['category']:\n",
    "    if x == 'GAME SIMULATION' :\n",
    "        gst_index.append(net5)\n",
    "    net5+= 1"
   ]
  },
  {
   "cell_type": "code",
   "execution_count": 21,
   "metadata": {},
   "outputs": [
    {
     "name": "stdout",
     "output_type": "stream",
     "text": [
      "the average of category GAME STIMULATION IS 1076992.303030303\n"
     ]
    }
   ],
   "source": [
    "d_ind = android[1324:1423]\n",
    "lst = d_ind['total ratings']\n",
    "l5 = np.average(lst)\n",
    "print(f'the average of category GAME STIMULATION IS {l5}')"
   ]
  },
  {
   "cell_type": "code",
   "execution_count": 22,
   "metadata": {},
   "outputs": [],
   "source": [
    "grp_index = []\n",
    "\n",
    "net6=0\n",
    "for x in android['category']:\n",
    "    if x == 'GAME ROLE PLAYING' :\n",
    "        grp_index.append(net6)\n",
    "    net6+= 1"
   ]
  },
  {
   "cell_type": "code",
   "execution_count": 23,
   "metadata": {},
   "outputs": [
    {
     "name": "stdout",
     "output_type": "stream",
     "text": [
      "the average of category GAME ROLE PLAYING IS 749196.0303030303\n"
     ]
    }
   ],
   "source": [
    "e_ind = android[1224:1323]\n",
    "lrp = e_ind['total ratings']\n",
    "l6 = np.average(lrp)\n",
    "print(f'the average of category GAME ROLE PLAYING IS {l6}')"
   ]
  },
  {
   "cell_type": "code",
   "execution_count": 24,
   "metadata": {},
   "outputs": [],
   "source": [
    "gr_index = []\n",
    "\n",
    "net7=0\n",
    "for x in android['category']:\n",
    "    if x == 'GAME RACING' :\n",
    "        gr_index.append(net7)\n",
    "    net7+= 1"
   ]
  },
  {
   "cell_type": "code",
   "execution_count": 25,
   "metadata": {},
   "outputs": [
    {
     "name": "stdout",
     "output_type": "stream",
     "text": [
      "the average of category GAME RACING is 1374436.9494949495\n"
     ]
    }
   ],
   "source": [
    "d_ind = android[1124:1223]\n",
    "lr = d_ind['total ratings']\n",
    "l7 = np.average(lr)\n",
    "print(f'the average of category GAME RACING is {l7}')"
   ]
  },
  {
   "cell_type": "code",
   "execution_count": 26,
   "metadata": {},
   "outputs": [],
   "source": [
    "gp_index = []\n",
    "\n",
    "net8=0\n",
    "for x in android['category']:\n",
    "    if x == 'GAME PUZZLE' :\n",
    "        gp_index.append(net8)\n",
    "    net8+= 1"
   ]
  },
  {
   "cell_type": "code",
   "execution_count": 27,
   "metadata": {},
   "outputs": [
    {
     "name": "stdout",
     "output_type": "stream",
     "text": [
      "the average of category GAME PUZZLE is 989998.5151515151\n"
     ]
    }
   ],
   "source": [
    "p_ind = android[1024:1123]\n",
    "lp = p_ind['total ratings']\n",
    "l8 = np.average(lp)\n",
    "print(f'the average of category GAME PUZZLE is {l8}')"
   ]
  },
  {
   "cell_type": "code",
   "execution_count": 28,
   "metadata": {},
   "outputs": [],
   "source": [
    "gm_index = []\n",
    "\n",
    "net9=0\n",
    "for x in android['category']:\n",
    "    if x == 'GAME MUSIC' :\n",
    "        gm_index.append(net9)\n",
    "    net9+= 1"
   ]
  },
  {
   "cell_type": "code",
   "execution_count": 29,
   "metadata": {},
   "outputs": [
    {
     "name": "stdout",
     "output_type": "stream",
     "text": [
      "the average of category GAME MUSIC is 226393.77777777778\n"
     ]
    }
   ],
   "source": [
    "q_ind = android[924:1023]\n",
    "lgm = q_ind['total ratings']\n",
    "l9 = np.average(lgm)\n",
    "print(f'the average of category GAME MUSIC is {l9}')"
   ]
  },
  {
   "cell_type": "code",
   "execution_count": 30,
   "metadata": {},
   "outputs": [],
   "source": [
    "gf_index = []\n",
    "\n",
    "net10=0\n",
    "for x in android['category']:\n",
    "    if x == 'GAME FAMILY' :\n",
    "        gf_index.append(net10)\n",
    "    net10+= 1"
   ]
  },
  {
   "cell_type": "code",
   "execution_count": 31,
   "metadata": {},
   "outputs": [
    {
     "name": "stdout",
     "output_type": "stream",
     "text": [
      "the average of category GAME FAMILY is 18356867.383838385\n"
     ]
    }
   ],
   "source": [
    "m_ind = android[824:923]\n",
    "lf = m_ind['total ratings']\n",
    "l10 = np.average(lf)\n",
    "print(f'the average of category GAME FAMILY is {l10}')"
   ]
  },
  {
   "cell_type": "code",
   "execution_count": 32,
   "metadata": {},
   "outputs": [],
   "source": [
    "ge_index = []\n",
    "\n",
    "net11=0\n",
    "for x in android['category']:\n",
    "    if x == 'GAME EDUCATIONAL' :\n",
    "        ge_index.append(net11)\n",
    "    net11+= 1"
   ]
  },
  {
   "cell_type": "code",
   "execution_count": 33,
   "metadata": {},
   "outputs": [
    {
     "name": "stdout",
     "output_type": "stream",
     "text": [
      "the average of category GAME EDUCATIONAL is 143382.66666666666\n"
     ]
    }
   ],
   "source": [
    "e_ind = android[724:823]\n",
    "le = e_ind['total ratings']\n",
    "l11 = np.average(le)\n",
    "print(f'the average of category GAME EDUCATIONAL is {l11}')"
   ]
  },
  {
   "cell_type": "code",
   "execution_count": 34,
   "metadata": {},
   "outputs": [],
   "source": [
    "gc_index = []\n",
    "\n",
    "net12=0\n",
    "for x in android['category']:\n",
    "    if x == 'GAME CASUAL' :\n",
    "        gc_index.append(net12)\n",
    "    net12+= 1"
   ]
  },
  {
   "cell_type": "code",
   "execution_count": 35,
   "metadata": {},
   "outputs": [
    {
     "name": "stdout",
     "output_type": "stream",
     "text": [
      "the average of category GAME CASUAL is 2516978.693069307\n"
     ]
    }
   ],
   "source": [
    "r_ind = android[622:723]\n",
    "lc = r_ind['total ratings']\n",
    "l12 = np.average(lc)\n",
    "print(f'the average of category GAME CASUAL is {l12}')"
   ]
  },
  {
   "cell_type": "code",
   "execution_count": 36,
   "metadata": {},
   "outputs": [],
   "source": [
    "gca_index = []\n",
    "\n",
    "net13=0\n",
    "for x in android['category']:\n",
    "    if x == 'GAME CASINO' :\n",
    "        gca_index.append(net13)\n",
    "    net13+= 1"
   ]
  },
  {
   "cell_type": "code",
   "execution_count": 37,
   "metadata": {},
   "outputs": [
    {
     "name": "stdout",
     "output_type": "stream",
     "text": [
      "the average of category GAME CASINO is 373989.4747474748\n"
     ]
    }
   ],
   "source": [
    "w_ind = android[522:621]\n",
    "lca = w_ind['total ratings']\n",
    "l13 = np.average(lca)\n",
    "print(f'the average of category GAME CASINO is {l13}')"
   ]
  },
  {
   "cell_type": "code",
   "execution_count": 38,
   "metadata": {},
   "outputs": [],
   "source": [
    "gcr_index = []\n",
    "\n",
    "net14=0\n",
    "for x in android['category']:\n",
    "    if x == 'GAME CARD' :\n",
    "        gcr_index.append(net14)\n",
    "    net14+= 1"
   ]
  },
  {
   "cell_type": "code",
   "execution_count": 39,
   "metadata": {},
   "outputs": [
    {
     "name": "stdout",
     "output_type": "stream",
     "text": [
      "the average of category GAME CARD is 323692.4214876033\n"
     ]
    }
   ],
   "source": [
    "cr_ind = android[400:521]\n",
    "lcr = cr_ind['total ratings']\n",
    "l14 = np.average(lcr)\n",
    "print(f'the average of category GAME CARD is {l14}')"
   ]
  },
  {
   "cell_type": "code",
   "execution_count": 40,
   "metadata": {},
   "outputs": [],
   "source": [
    "gb_index = []\n",
    "\n",
    "net15=0\n",
    "for x in android['category']:\n",
    "    if x == 'GAME BOARD' :\n",
    "        gb_index.append(net15)\n",
    "    net15+= 1"
   ]
  },
  {
   "cell_type": "code",
   "execution_count": 41,
   "metadata": {},
   "outputs": [
    {
     "name": "stdout",
     "output_type": "stream",
     "text": [
      "the average of category GAME BOARD is 474686.43434343435\n"
     ]
    }
   ],
   "source": [
    "gb_ind = android[300:399]\n",
    "lb = gb_ind['total ratings']\n",
    "l15 = np.average(lb)\n",
    "print(f'the average of category GAME BOARD is {l15}')"
   ]
  },
  {
   "cell_type": "code",
   "execution_count": 42,
   "metadata": {},
   "outputs": [],
   "source": [
    "ga_index = []\n",
    "\n",
    "net16=0\n",
    "for x in android['category']:\n",
    "    if x == 'GAME ARCADE' :\n",
    "        ga_index.append(net16)\n",
    "    net16+= 1"
   ]
  },
  {
   "cell_type": "code",
   "execution_count": 43,
   "metadata": {},
   "outputs": [
    {
     "name": "stdout",
     "output_type": "stream",
     "text": [
      "the average of category GAME ARCADE is 1865953.9393939395\n"
     ]
    }
   ],
   "source": [
    "ga_ind = android[200:299]\n",
    "la = ga_ind['total ratings']\n",
    "l16 = np.average(la)\n",
    "print(f'the average of category GAME ARCADE is {l16}')"
   ]
  },
  {
   "cell_type": "code",
   "execution_count": 44,
   "metadata": {},
   "outputs": [],
   "source": [
    "gad_index = []\n",
    "\n",
    "net17=0\n",
    "for x in android['category']:\n",
    "    if x == 'GAME ADVENTURE' :\n",
    "        gad_index.append(net17)\n",
    "    net17+= 1"
   ]
  },
  {
   "cell_type": "code",
   "execution_count": 45,
   "metadata": {},
   "outputs": [
    {
     "name": "stdout",
     "output_type": "stream",
     "text": [
      "the average of category GAME ADVENTURE is 927293.2525252525\n"
     ]
    }
   ],
   "source": [
    "gad_ind = android[100:199]\n",
    "lad = gad_ind['total ratings']\n",
    "l17 = np.average(lad)\n",
    "print(f'the average of category GAME ADVENTURE is {l17}')"
   ]
  },
  {
   "cell_type": "code",
   "execution_count": 46,
   "metadata": {},
   "outputs": [],
   "source": [
    "gac_index = []\n",
    "\n",
    "net18=0\n",
    "for x in android['category']:\n",
    "    if x == 'GAME ACTION' :\n",
    "        gac_index.append(net18)\n",
    "    net18+= 1"
   ]
  },
  {
   "cell_type": "code",
   "execution_count": 47,
   "metadata": {},
   "outputs": [
    {
     "name": "stdout",
     "output_type": "stream",
     "text": [
      "the average of category GAME ACTION is 4167664.515151515\n"
     ]
    }
   ],
   "source": [
    "gac_ind = android[0:99]\n",
    "lac = gac_ind['total ratings']\n",
    "l18 = np.average(lac)\n",
    "print(f'the average of category GAME ACTION is {l18}')"
   ]
  },
  {
   "cell_type": "code",
   "execution_count": 48,
   "metadata": {},
   "outputs": [
    {
     "name": "stdout",
     "output_type": "stream",
     "text": [
      "1850518.98989899\n",
      "1267085.1717171718\n",
      "1076992.303030303\n",
      "1374436.9494949495\n",
      "989998.5151515151\n",
      "18356867.383838385\n",
      "2516978.693069307\n",
      "1865953.9393939395\n",
      "927293.2525252525\n",
      "4167664.515151515\n"
     ]
    }
   ],
   "source": [
    "#to know the GAME CATEGORY WITH HIGH AVERAGE\n",
    "Game_list = [l,l2,l3,l4,l5,l6,l7,l8,l9,l10,l11,l12,l13,l14,l15,l16,l17,l18]\n",
    "\n",
    "for x in Game_list:\n",
    "    if x >= 900000:\n",
    "        print(x)"
   ]
  },
  {
   "cell_type": "code",
   "execution_count": 49,
   "metadata": {},
   "outputs": [],
   "source": [
    "n_andrioid =  android.drop(gb_index)\n",
    "b_7 = n_andrioid.drop(gca_index,inplace=True)\n",
    "b_6 =  n_andrioid.drop(ge_index,inplace=True)\n",
    "b_5  = n_andrioid.drop(gm_index,inplace=True)\n",
    "b_4 = n_andrioid.drop(grp_index,inplace=True)\n",
    "b_3= n_andrioid.drop(s_index,inplace=True)\n",
    "b_2 = n_andrioid.drop(n_index,inplace=True)"
   ]
  },
  {
   "cell_type": "code",
   "execution_count": 50,
   "metadata": {},
   "outputs": [
    {
     "data": {
      "text/html": [
       "<div>\n",
       "<style scoped>\n",
       "    .dataframe tbody tr th:only-of-type {\n",
       "        vertical-align: middle;\n",
       "    }\n",
       "\n",
       "    .dataframe tbody tr th {\n",
       "        vertical-align: top;\n",
       "    }\n",
       "\n",
       "    .dataframe thead th {\n",
       "        text-align: right;\n",
       "    }\n",
       "</style>\n",
       "<table border=\"1\" class=\"dataframe\">\n",
       "  <thead>\n",
       "    <tr style=\"text-align: right;\">\n",
       "      <th></th>\n",
       "      <th>rank</th>\n",
       "      <th>title</th>\n",
       "      <th>total ratings</th>\n",
       "      <th>installs</th>\n",
       "      <th>average rating</th>\n",
       "      <th>growth (30 days)</th>\n",
       "      <th>growth (60 days)</th>\n",
       "      <th>price</th>\n",
       "      <th>category</th>\n",
       "      <th>5 star ratings</th>\n",
       "      <th>4 star ratings</th>\n",
       "      <th>3 star ratings</th>\n",
       "      <th>2 star ratings</th>\n",
       "      <th>1 star ratings</th>\n",
       "      <th>paid</th>\n",
       "    </tr>\n",
       "  </thead>\n",
       "  <tbody>\n",
       "    <tr>\n",
       "      <th>0</th>\n",
       "      <td>1</td>\n",
       "      <td>Garena Free Fire - The Cobra</td>\n",
       "      <td>80678661</td>\n",
       "      <td>500.0 M</td>\n",
       "      <td>4.33</td>\n",
       "      <td>2.9</td>\n",
       "      <td>7.9</td>\n",
       "      <td>0.0</td>\n",
       "      <td>GAME ACTION</td>\n",
       "      <td>61935712</td>\n",
       "      <td>4478738</td>\n",
       "      <td>2795172</td>\n",
       "      <td>1814999</td>\n",
       "      <td>9654037</td>\n",
       "      <td>False</td>\n",
       "    </tr>\n",
       "    <tr>\n",
       "      <th>1</th>\n",
       "      <td>2</td>\n",
       "      <td>PUBG MOBILE: Graffiti Prank</td>\n",
       "      <td>35971961</td>\n",
       "      <td>100.0 M</td>\n",
       "      <td>4.24</td>\n",
       "      <td>2.0</td>\n",
       "      <td>3.1</td>\n",
       "      <td>0.0</td>\n",
       "      <td>GAME ACTION</td>\n",
       "      <td>26670566</td>\n",
       "      <td>2109631</td>\n",
       "      <td>1352610</td>\n",
       "      <td>893674</td>\n",
       "      <td>4945478</td>\n",
       "      <td>False</td>\n",
       "    </tr>\n",
       "    <tr>\n",
       "      <th>2</th>\n",
       "      <td>3</td>\n",
       "      <td>Mobile Legends: Bang Bang</td>\n",
       "      <td>25836869</td>\n",
       "      <td>100.0 M</td>\n",
       "      <td>4.08</td>\n",
       "      <td>1.6</td>\n",
       "      <td>3.3</td>\n",
       "      <td>0.0</td>\n",
       "      <td>GAME ACTION</td>\n",
       "      <td>17850942</td>\n",
       "      <td>1796761</td>\n",
       "      <td>1066095</td>\n",
       "      <td>725429</td>\n",
       "      <td>4397640</td>\n",
       "      <td>False</td>\n",
       "    </tr>\n",
       "    <tr>\n",
       "      <th>3</th>\n",
       "      <td>4</td>\n",
       "      <td>Brawl Stars</td>\n",
       "      <td>17181659</td>\n",
       "      <td>100.0 M</td>\n",
       "      <td>4.27</td>\n",
       "      <td>4.1</td>\n",
       "      <td>6.6</td>\n",
       "      <td>0.0</td>\n",
       "      <td>GAME ACTION</td>\n",
       "      <td>12493668</td>\n",
       "      <td>1474319</td>\n",
       "      <td>741410</td>\n",
       "      <td>383478</td>\n",
       "      <td>2088781</td>\n",
       "      <td>False</td>\n",
       "    </tr>\n",
       "    <tr>\n",
       "      <th>4</th>\n",
       "      <td>5</td>\n",
       "      <td>Sniper 3D: Fun Free Online FPS Shooting Game</td>\n",
       "      <td>14237554</td>\n",
       "      <td>100.0 M</td>\n",
       "      <td>4.33</td>\n",
       "      <td>0.8</td>\n",
       "      <td>1.8</td>\n",
       "      <td>0.0</td>\n",
       "      <td>GAME ACTION</td>\n",
       "      <td>9657878</td>\n",
       "      <td>2124544</td>\n",
       "      <td>1034025</td>\n",
       "      <td>375159</td>\n",
       "      <td>1045945</td>\n",
       "      <td>False</td>\n",
       "    </tr>\n",
       "    <tr>\n",
       "      <th>...</th>\n",
       "      <td>...</td>\n",
       "      <td>...</td>\n",
       "      <td>...</td>\n",
       "      <td>...</td>\n",
       "      <td>...</td>\n",
       "      <td>...</td>\n",
       "      <td>...</td>\n",
       "      <td>...</td>\n",
       "      <td>...</td>\n",
       "      <td>...</td>\n",
       "      <td>...</td>\n",
       "      <td>...</td>\n",
       "      <td>...</td>\n",
       "      <td>...</td>\n",
       "      <td>...</td>\n",
       "    </tr>\n",
       "    <tr>\n",
       "      <th>1619</th>\n",
       "      <td>96</td>\n",
       "      <td>Train Station 2: Railroad Tycoon &amp; City Simulator</td>\n",
       "      <td>280496</td>\n",
       "      <td>10.0 M</td>\n",
       "      <td>4.46</td>\n",
       "      <td>6.2</td>\n",
       "      <td>14.3</td>\n",
       "      <td>0.0</td>\n",
       "      <td>GAME STRATEGY</td>\n",
       "      <td>193460</td>\n",
       "      <td>52062</td>\n",
       "      <td>17426</td>\n",
       "      <td>6218</td>\n",
       "      <td>11326</td>\n",
       "      <td>False</td>\n",
       "    </tr>\n",
       "    <tr>\n",
       "      <th>1620</th>\n",
       "      <td>97</td>\n",
       "      <td>Castle Clash: Batalha de Guildas</td>\n",
       "      <td>279542</td>\n",
       "      <td>1.0 M</td>\n",
       "      <td>4.35</td>\n",
       "      <td>0.1</td>\n",
       "      <td>0.2</td>\n",
       "      <td>0.0</td>\n",
       "      <td>GAME STRATEGY</td>\n",
       "      <td>207820</td>\n",
       "      <td>23527</td>\n",
       "      <td>14715</td>\n",
       "      <td>5844</td>\n",
       "      <td>27633</td>\n",
       "      <td>False</td>\n",
       "    </tr>\n",
       "    <tr>\n",
       "      <th>1621</th>\n",
       "      <td>98</td>\n",
       "      <td>城堡爭霸 - 聯盟霸業</td>\n",
       "      <td>276353</td>\n",
       "      <td>1.0 M</td>\n",
       "      <td>4.56</td>\n",
       "      <td>0.1</td>\n",
       "      <td>0.1</td>\n",
       "      <td>0.0</td>\n",
       "      <td>GAME STRATEGY</td>\n",
       "      <td>224926</td>\n",
       "      <td>19886</td>\n",
       "      <td>9967</td>\n",
       "      <td>3759</td>\n",
       "      <td>17813</td>\n",
       "      <td>False</td>\n",
       "    </tr>\n",
       "    <tr>\n",
       "      <th>1622</th>\n",
       "      <td>99</td>\n",
       "      <td>Iron Desert - Fire Storm</td>\n",
       "      <td>272167</td>\n",
       "      <td>5.0 M</td>\n",
       "      <td>4.34</td>\n",
       "      <td>0.0</td>\n",
       "      <td>0.0</td>\n",
       "      <td>0.0</td>\n",
       "      <td>GAME STRATEGY</td>\n",
       "      <td>191227</td>\n",
       "      <td>34188</td>\n",
       "      <td>16647</td>\n",
       "      <td>7185</td>\n",
       "      <td>22918</td>\n",
       "      <td>False</td>\n",
       "    </tr>\n",
       "    <tr>\n",
       "      <th>1623</th>\n",
       "      <td>100</td>\n",
       "      <td>Castle Clash: Regu Royale</td>\n",
       "      <td>270364</td>\n",
       "      <td>1.0 M</td>\n",
       "      <td>4.34</td>\n",
       "      <td>0.1</td>\n",
       "      <td>0.2</td>\n",
       "      <td>0.0</td>\n",
       "      <td>GAME STRATEGY</td>\n",
       "      <td>195637</td>\n",
       "      <td>25085</td>\n",
       "      <td>17969</td>\n",
       "      <td>8165</td>\n",
       "      <td>23506</td>\n",
       "      <td>False</td>\n",
       "    </tr>\n",
       "  </tbody>\n",
       "</table>\n",
       "<p>1124 rows × 15 columns</p>\n",
       "</div>"
      ],
      "text/plain": [
       "      rank                                              title  total ratings  \\\n",
       "0        1                       Garena Free Fire - The Cobra       80678661   \n",
       "1        2                        PUBG MOBILE: Graffiti Prank       35971961   \n",
       "2        3                          Mobile Legends: Bang Bang       25836869   \n",
       "3        4                                        Brawl Stars       17181659   \n",
       "4        5       Sniper 3D: Fun Free Online FPS Shooting Game       14237554   \n",
       "...    ...                                                ...            ...   \n",
       "1619    96  Train Station 2: Railroad Tycoon & City Simulator         280496   \n",
       "1620    97                   Castle Clash: Batalha de Guildas         279542   \n",
       "1621    98                                        城堡爭霸 - 聯盟霸業         276353   \n",
       "1622    99                           Iron Desert - Fire Storm         272167   \n",
       "1623   100                          Castle Clash: Regu Royale         270364   \n",
       "\n",
       "     installs  average rating  growth (30 days)  growth (60 days)  price  \\\n",
       "0     500.0 M            4.33               2.9               7.9    0.0   \n",
       "1     100.0 M            4.24               2.0               3.1    0.0   \n",
       "2     100.0 M            4.08               1.6               3.3    0.0   \n",
       "3     100.0 M            4.27               4.1               6.6    0.0   \n",
       "4     100.0 M            4.33               0.8               1.8    0.0   \n",
       "...       ...             ...               ...               ...    ...   \n",
       "1619   10.0 M            4.46               6.2              14.3    0.0   \n",
       "1620    1.0 M            4.35               0.1               0.2    0.0   \n",
       "1621    1.0 M            4.56               0.1               0.1    0.0   \n",
       "1622    5.0 M            4.34               0.0               0.0    0.0   \n",
       "1623    1.0 M            4.34               0.1               0.2    0.0   \n",
       "\n",
       "           category  5 star ratings  4 star ratings  3 star ratings  \\\n",
       "0       GAME ACTION        61935712         4478738         2795172   \n",
       "1       GAME ACTION        26670566         2109631         1352610   \n",
       "2       GAME ACTION        17850942         1796761         1066095   \n",
       "3       GAME ACTION        12493668         1474319          741410   \n",
       "4       GAME ACTION         9657878         2124544         1034025   \n",
       "...             ...             ...             ...             ...   \n",
       "1619  GAME STRATEGY          193460           52062           17426   \n",
       "1620  GAME STRATEGY          207820           23527           14715   \n",
       "1621  GAME STRATEGY          224926           19886            9967   \n",
       "1622  GAME STRATEGY          191227           34188           16647   \n",
       "1623  GAME STRATEGY          195637           25085           17969   \n",
       "\n",
       "      2 star ratings  1 star ratings   paid  \n",
       "0            1814999         9654037  False  \n",
       "1             893674         4945478  False  \n",
       "2             725429         4397640  False  \n",
       "3             383478         2088781  False  \n",
       "4             375159         1045945  False  \n",
       "...              ...             ...    ...  \n",
       "1619            6218           11326  False  \n",
       "1620            5844           27633  False  \n",
       "1621            3759           17813  False  \n",
       "1622            7185           22918  False  \n",
       "1623            8165           23506  False  \n",
       "\n",
       "[1124 rows x 15 columns]"
      ]
     },
     "execution_count": 50,
     "metadata": {},
     "output_type": "execute_result"
    }
   ],
   "source": [
    "n_andrioid"
   ]
  },
  {
   "cell_type": "code",
   "execution_count": 51,
   "metadata": {},
   "outputs": [
    {
     "name": "stderr",
     "output_type": "stream",
     "text": [
      "C:\\Users\\BOSS\\Anaconda3\\lib\\site-packages\\seaborn\\_decorators.py:36: FutureWarning: Pass the following variables as keyword args: x, y. From version 0.12, the only valid positional argument will be `data`, and passing other arguments without an explicit keyword will result in an error or misinterpretation.\n",
      "  warnings.warn(\n"
     ]
    },
    {
     "data": {
      "image/png": "[encoded data removed]",
      "text/plain": [
       "<Figure size 720x432 with 1 Axes>"
      ]
     },
     "metadata": {
      "needs_background": "light"
     },
     "output_type": "display_data"
    },
    {
     "data": {
      "text/plain": [
       "<Figure size 432x288 with 0 Axes>"
      ]
     },
     "metadata": {},
     "output_type": "display_data"
    }
   ],
   "source": [
    "#CATEGORICAL PLOTS\n",
    "fig = plt.figure(figsize=(10,6),)\n",
    "ax1 = fig.add_axes([0.1,0.1,0.8,0.8])\n",
    "ax1.set_title('Tips distribution across time')\n",
    "\n",
    "sn = sns.barplot(n_andrioid['category'],n_andrioid['total ratings'],estimator=max,palette='magma')\n",
    "plt.setp(sn.get_xticklabels(),rotation=45)\n",
    "plt.show()\n",
    "plt.tight_layout()"
   ]
  },
  {
   "cell_type": "markdown",
   "metadata": {},
   "source": [
    "#Show the percentage of games that got a 5star rating >80000000"
   ]
  },
  {
   "cell_type": "code",
   "execution_count": 52,
   "metadata": {},
   "outputs": [
    {
     "data": {
      "text/html": [
       "<div>\n",
       "<style scoped>\n",
       "    .dataframe tbody tr th:only-of-type {\n",
       "        vertical-align: middle;\n",
       "    }\n",
       "\n",
       "    .dataframe tbody tr th {\n",
       "        vertical-align: top;\n",
       "    }\n",
       "\n",
       "    .dataframe thead th {\n",
       "        text-align: right;\n",
       "    }\n",
       "</style>\n",
       "<table border=\"1\" class=\"dataframe\">\n",
       "  <thead>\n",
       "    <tr style=\"text-align: right;\">\n",
       "      <th></th>\n",
       "      <th>rank</th>\n",
       "      <th>title</th>\n",
       "      <th>total ratings</th>\n",
       "      <th>installs</th>\n",
       "      <th>average rating</th>\n",
       "      <th>growth (30 days)</th>\n",
       "      <th>growth (60 days)</th>\n",
       "      <th>price</th>\n",
       "      <th>category</th>\n",
       "      <th>5 star ratings</th>\n",
       "      <th>4 star ratings</th>\n",
       "      <th>3 star ratings</th>\n",
       "      <th>2 star ratings</th>\n",
       "      <th>1 star ratings</th>\n",
       "      <th>paid</th>\n",
       "    </tr>\n",
       "  </thead>\n",
       "  <tbody>\n",
       "    <tr>\n",
       "      <th>0</th>\n",
       "      <td>1</td>\n",
       "      <td>Garena Free Fire - The Cobra</td>\n",
       "      <td>80678661</td>\n",
       "      <td>500.0 M</td>\n",
       "      <td>4.33</td>\n",
       "      <td>2.9</td>\n",
       "      <td>7.9</td>\n",
       "      <td>0.0</td>\n",
       "      <td>GAME ACTION</td>\n",
       "      <td>61935712</td>\n",
       "      <td>4478738</td>\n",
       "      <td>2795172</td>\n",
       "      <td>1814999</td>\n",
       "      <td>9654037</td>\n",
       "      <td>False</td>\n",
       "    </tr>\n",
       "    <tr>\n",
       "      <th>1</th>\n",
       "      <td>2</td>\n",
       "      <td>PUBG MOBILE: Graffiti Prank</td>\n",
       "      <td>35971961</td>\n",
       "      <td>100.0 M</td>\n",
       "      <td>4.24</td>\n",
       "      <td>2.0</td>\n",
       "      <td>3.1</td>\n",
       "      <td>0.0</td>\n",
       "      <td>GAME ACTION</td>\n",
       "      <td>26670566</td>\n",
       "      <td>2109631</td>\n",
       "      <td>1352610</td>\n",
       "      <td>893674</td>\n",
       "      <td>4945478</td>\n",
       "      <td>False</td>\n",
       "    </tr>\n",
       "    <tr>\n",
       "      <th>2</th>\n",
       "      <td>3</td>\n",
       "      <td>Mobile Legends: Bang Bang</td>\n",
       "      <td>25836869</td>\n",
       "      <td>100.0 M</td>\n",
       "      <td>4.08</td>\n",
       "      <td>1.6</td>\n",
       "      <td>3.3</td>\n",
       "      <td>0.0</td>\n",
       "      <td>GAME ACTION</td>\n",
       "      <td>17850942</td>\n",
       "      <td>1796761</td>\n",
       "      <td>1066095</td>\n",
       "      <td>725429</td>\n",
       "      <td>4397640</td>\n",
       "      <td>False</td>\n",
       "    </tr>\n",
       "    <tr>\n",
       "      <th>3</th>\n",
       "      <td>4</td>\n",
       "      <td>Brawl Stars</td>\n",
       "      <td>17181659</td>\n",
       "      <td>100.0 M</td>\n",
       "      <td>4.27</td>\n",
       "      <td>4.1</td>\n",
       "      <td>6.6</td>\n",
       "      <td>0.0</td>\n",
       "      <td>GAME ACTION</td>\n",
       "      <td>12493668</td>\n",
       "      <td>1474319</td>\n",
       "      <td>741410</td>\n",
       "      <td>383478</td>\n",
       "      <td>2088781</td>\n",
       "      <td>False</td>\n",
       "    </tr>\n",
       "    <tr>\n",
       "      <th>4</th>\n",
       "      <td>5</td>\n",
       "      <td>Sniper 3D: Fun Free Online FPS Shooting Game</td>\n",
       "      <td>14237554</td>\n",
       "      <td>100.0 M</td>\n",
       "      <td>4.33</td>\n",
       "      <td>0.8</td>\n",
       "      <td>1.8</td>\n",
       "      <td>0.0</td>\n",
       "      <td>GAME ACTION</td>\n",
       "      <td>9657878</td>\n",
       "      <td>2124544</td>\n",
       "      <td>1034025</td>\n",
       "      <td>375159</td>\n",
       "      <td>1045945</td>\n",
       "      <td>False</td>\n",
       "    </tr>\n",
       "  </tbody>\n",
       "</table>\n",
       "</div>"
      ],
      "text/plain": [
       "   rank                                         title  total ratings installs  \\\n",
       "0     1                  Garena Free Fire - The Cobra       80678661  500.0 M   \n",
       "1     2                   PUBG MOBILE: Graffiti Prank       35971961  100.0 M   \n",
       "2     3                     Mobile Legends: Bang Bang       25836869  100.0 M   \n",
       "3     4                                   Brawl Stars       17181659  100.0 M   \n",
       "4     5  Sniper 3D: Fun Free Online FPS Shooting Game       14237554  100.0 M   \n",
       "\n",
       "   average rating  growth (30 days)  growth (60 days)  price     category  \\\n",
       "0            4.33               2.9               7.9    0.0  GAME ACTION   \n",
       "1            4.24               2.0               3.1    0.0  GAME ACTION   \n",
       "2            4.08               1.6               3.3    0.0  GAME ACTION   \n",
       "3            4.27               4.1               6.6    0.0  GAME ACTION   \n",
       "4            4.33               0.8               1.8    0.0  GAME ACTION   \n",
       "\n",
       "   5 star ratings  4 star ratings  3 star ratings  2 star ratings  \\\n",
       "0        61935712         4478738         2795172         1814999   \n",
       "1        26670566         2109631         1352610          893674   \n",
       "2        17850942         1796761         1066095          725429   \n",
       "3        12493668         1474319          741410          383478   \n",
       "4         9657878         2124544         1034025          375159   \n",
       "\n",
       "   1 star ratings   paid  \n",
       "0         9654037  False  \n",
       "1         4945478  False  \n",
       "2         4397640  False  \n",
       "3         2088781  False  \n",
       "4         1045945  False  "
      ]
     },
     "execution_count": 52,
     "metadata": {},
     "output_type": "execute_result"
    }
   ],
   "source": [
    "android.head()"
   ]
  },
  {
   "cell_type": "code",
   "execution_count": 53,
   "metadata": {},
   "outputs": [
    {
     "data": {
      "text/plain": [
       "[824, 825]"
      ]
     },
     "execution_count": 53,
     "metadata": {},
     "output_type": "execute_result"
    }
   ],
   "source": [
    "#to know the index of the ones with high 5 star ratings above 80000000\n",
    "new_ind  = []\n",
    "\n",
    "rate = 0\n",
    "for s in android['5 star ratings']:\n",
    "    if s>= 80000000:\n",
    "        new_ind.append(rate)\n",
    "    rate+= 1  \n",
    "new_ind"
   ]
  },
  {
   "cell_type": "code",
   "execution_count": 54,
   "metadata": {},
   "outputs": [
    {
     "name": "stdout",
     "output_type": "stream",
     "text": [
      "2670339830\n"
     ]
    }
   ],
   "source": [
    "#find the total of 5 star ratings\n",
    "pet = []\n",
    "for x in android['5 star ratings']:\n",
    "    if x>=100:\n",
    "        pass\n",
    "    pet.append(x)\n",
    "rate_sum = sum(pet)\n",
    "print(rate_sum)    "
   ]
  },
  {
   "cell_type": "code",
   "execution_count": 55,
   "metadata": {},
   "outputs": [
    {
     "data": {
      "text/plain": [
       "89826657"
      ]
     },
     "execution_count": 55,
     "metadata": {},
     "output_type": "execute_result"
    }
   ],
   "source": [
    "max(pet)"
   ]
  },
  {
   "cell_type": "code",
   "execution_count": 56,
   "metadata": {},
   "outputs": [
    {
     "data": {
      "text/html": [
       "<div>\n",
       "<style scoped>\n",
       "    .dataframe tbody tr th:only-of-type {\n",
       "        vertical-align: middle;\n",
       "    }\n",
       "\n",
       "    .dataframe tbody tr th {\n",
       "        vertical-align: top;\n",
       "    }\n",
       "\n",
       "    .dataframe thead th {\n",
       "        text-align: right;\n",
       "    }\n",
       "</style>\n",
       "<table border=\"1\" class=\"dataframe\">\n",
       "  <thead>\n",
       "    <tr style=\"text-align: right;\">\n",
       "      <th></th>\n",
       "      <th>rank</th>\n",
       "      <th>title</th>\n",
       "      <th>total ratings</th>\n",
       "      <th>installs</th>\n",
       "      <th>average rating</th>\n",
       "      <th>growth (30 days)</th>\n",
       "      <th>growth (60 days)</th>\n",
       "      <th>price</th>\n",
       "      <th>category</th>\n",
       "      <th>5 star ratings</th>\n",
       "      <th>4 star ratings</th>\n",
       "      <th>3 star ratings</th>\n",
       "      <th>2 star ratings</th>\n",
       "      <th>1 star ratings</th>\n",
       "      <th>paid</th>\n",
       "    </tr>\n",
       "  </thead>\n",
       "  <tbody>\n",
       "    <tr>\n",
       "      <th>824</th>\n",
       "      <td>1</td>\n",
       "      <td>WhatsApp Messenger</td>\n",
       "      <td>132820159</td>\n",
       "      <td>5000.0 M</td>\n",
       "      <td>4.16</td>\n",
       "      <td>1.3</td>\n",
       "      <td>2.8</td>\n",
       "      <td>0.0</td>\n",
       "      <td>GAME FAMILY</td>\n",
       "      <td>89826657</td>\n",
       "      <td>13399678</td>\n",
       "      <td>7742411</td>\n",
       "      <td>4404948</td>\n",
       "      <td>17446463</td>\n",
       "      <td>False</td>\n",
       "    </tr>\n",
       "    <tr>\n",
       "      <th>825</th>\n",
       "      <td>2</td>\n",
       "      <td>Instagram</td>\n",
       "      <td>115159158</td>\n",
       "      <td>1000.0 M</td>\n",
       "      <td>4.35</td>\n",
       "      <td>1.2</td>\n",
       "      <td>2.4</td>\n",
       "      <td>0.0</td>\n",
       "      <td>GAME FAMILY</td>\n",
       "      <td>84694156</td>\n",
       "      <td>11188324</td>\n",
       "      <td>5387770</td>\n",
       "      <td>3002076</td>\n",
       "      <td>10886830</td>\n",
       "      <td>False</td>\n",
       "    </tr>\n",
       "  </tbody>\n",
       "</table>\n",
       "</div>"
      ],
      "text/plain": [
       "     rank               title  total ratings  installs  average rating  \\\n",
       "824     1  WhatsApp Messenger      132820159  5000.0 M            4.16   \n",
       "825     2           Instagram      115159158  1000.0 M            4.35   \n",
       "\n",
       "     growth (30 days)  growth (60 days)  price     category  5 star ratings  \\\n",
       "824               1.3               2.8    0.0  GAME FAMILY        89826657   \n",
       "825               1.2               2.4    0.0  GAME FAMILY        84694156   \n",
       "\n",
       "     4 star ratings  3 star ratings  2 star ratings  1 star ratings   paid  \n",
       "824        13399678         7742411         4404948        17446463  False  \n",
       "825        11188324         5387770         3002076        10886830  False  "
      ]
     },
     "execution_count": 56,
     "metadata": {},
     "output_type": "execute_result"
    }
   ],
   "source": [
    "android.iloc[824:826]"
   ]
  },
  {
   "cell_type": "code",
   "execution_count": 57,
   "metadata": {},
   "outputs": [],
   "source": [
    "# to save the number of 5 star ratings in the variable for solving\n",
    "per1 =  android['5 star ratings'].iloc[824]\n",
    "per2 = android['5 star ratings'].iloc[825]"
   ]
  },
  {
   "cell_type": "code",
   "execution_count": 58,
   "metadata": {},
   "outputs": [
    {
     "name": "stdout",
     "output_type": "stream",
     "text": [
      "The percentage of the two highest areWhatsApp Messenger3.36% and Instagram3.17%\n"
     ]
    }
   ],
   "source": [
    "#percentage of the two highest ratings\n",
    "t_per  = per1/rate_sum*100\n",
    "t_per2 = per2/rate_sum*100\n",
    "\n",
    "print(f'The percentage of the two highest areWhatsApp Messenger{t_per.round(2)}% and Instagram{t_per2.round(2)}%')"
   ]
  },
  {
   "cell_type": "markdown",
   "metadata": {},
   "source": [
    "#7Outline the 5 top games that got the highest rating and a 5star rating"
   ]
  },
  {
   "cell_type": "code",
   "execution_count": 59,
   "metadata": {},
   "outputs": [
    {
     "data": {
      "text/plain": [
       "[0, 824, 825, 826, 827, 828]"
      ]
     },
     "execution_count": 59,
     "metadata": {},
     "output_type": "execute_result"
    }
   ],
   "source": [
    "#to get the index of the 5 games with the highest 5 start ratings\n",
    "new_ind  = []\n",
    "rate = 0\n",
    "for s in android['5 star ratings']:\n",
    "    if s>= 60000000:\n",
    "        new_ind.append(rate)\n",
    "    rate+= 1  \n",
    "new_ind"
   ]
  },
  {
   "cell_type": "code",
   "execution_count": 60,
   "metadata": {},
   "outputs": [
    {
     "data": {
      "text/html": [
       "<div>\n",
       "<style scoped>\n",
       "    .dataframe tbody tr th:only-of-type {\n",
       "        vertical-align: middle;\n",
       "    }\n",
       "\n",
       "    .dataframe tbody tr th {\n",
       "        vertical-align: top;\n",
       "    }\n",
       "\n",
       "    .dataframe thead th {\n",
       "        text-align: right;\n",
       "    }\n",
       "</style>\n",
       "<table border=\"1\" class=\"dataframe\">\n",
       "  <thead>\n",
       "    <tr style=\"text-align: right;\">\n",
       "      <th></th>\n",
       "      <th>rank</th>\n",
       "      <th>title</th>\n",
       "      <th>total ratings</th>\n",
       "      <th>installs</th>\n",
       "      <th>average rating</th>\n",
       "      <th>growth (30 days)</th>\n",
       "      <th>growth (60 days)</th>\n",
       "      <th>price</th>\n",
       "      <th>category</th>\n",
       "      <th>5 star ratings</th>\n",
       "      <th>4 star ratings</th>\n",
       "      <th>3 star ratings</th>\n",
       "      <th>2 star ratings</th>\n",
       "      <th>1 star ratings</th>\n",
       "      <th>paid</th>\n",
       "    </tr>\n",
       "  </thead>\n",
       "  <tbody>\n",
       "    <tr>\n",
       "      <th>0</th>\n",
       "      <td>1</td>\n",
       "      <td>Garena Free Fire - The Cobra</td>\n",
       "      <td>80678661</td>\n",
       "      <td>500.0 M</td>\n",
       "      <td>4.33</td>\n",
       "      <td>2.9</td>\n",
       "      <td>7.9</td>\n",
       "      <td>0.0</td>\n",
       "      <td>GAME ACTION</td>\n",
       "      <td>61935712</td>\n",
       "      <td>4478738</td>\n",
       "      <td>2795172</td>\n",
       "      <td>1814999</td>\n",
       "      <td>9654037</td>\n",
       "      <td>False</td>\n",
       "    </tr>\n",
       "  </tbody>\n",
       "</table>\n",
       "</div>"
      ],
      "text/plain": [
       "   rank                         title  total ratings installs  average rating  \\\n",
       "0     1  Garena Free Fire - The Cobra       80678661  500.0 M            4.33   \n",
       "\n",
       "   growth (30 days)  growth (60 days)  price     category  5 star ratings  \\\n",
       "0               2.9               7.9    0.0  GAME ACTION        61935712   \n",
       "\n",
       "   4 star ratings  3 star ratings  2 star ratings  1 star ratings   paid  \n",
       "0         4478738         2795172         1814999         9654037  False  "
      ]
     },
     "execution_count": 60,
     "metadata": {},
     "output_type": "execute_result"
    }
   ],
   "source": [
    "android.iloc[0:1]"
   ]
  },
  {
   "cell_type": "code",
   "execution_count": 61,
   "metadata": {},
   "outputs": [],
   "source": [
    "# since Garena Free Fire - The Cobra appear twice with same data the game category  [GAME FAMILY ] VERSION will be used as the question instructed 5 top games"
   ]
  },
  {
   "cell_type": "code",
   "execution_count": 62,
   "metadata": {},
   "outputs": [
    {
     "data": {
      "text/html": [
       "<div>\n",
       "<style scoped>\n",
       "    .dataframe tbody tr th:only-of-type {\n",
       "        vertical-align: middle;\n",
       "    }\n",
       "\n",
       "    .dataframe tbody tr th {\n",
       "        vertical-align: top;\n",
       "    }\n",
       "\n",
       "    .dataframe thead th {\n",
       "        text-align: right;\n",
       "    }\n",
       "</style>\n",
       "<table border=\"1\" class=\"dataframe\">\n",
       "  <thead>\n",
       "    <tr style=\"text-align: right;\">\n",
       "      <th></th>\n",
       "      <th>rank</th>\n",
       "      <th>title</th>\n",
       "      <th>total ratings</th>\n",
       "      <th>installs</th>\n",
       "      <th>average rating</th>\n",
       "      <th>growth (30 days)</th>\n",
       "      <th>growth (60 days)</th>\n",
       "      <th>price</th>\n",
       "      <th>category</th>\n",
       "      <th>5 star ratings</th>\n",
       "      <th>4 star ratings</th>\n",
       "      <th>3 star ratings</th>\n",
       "      <th>2 star ratings</th>\n",
       "      <th>1 star ratings</th>\n",
       "      <th>paid</th>\n",
       "    </tr>\n",
       "  </thead>\n",
       "  <tbody>\n",
       "    <tr>\n",
       "      <th>824</th>\n",
       "      <td>1</td>\n",
       "      <td>WhatsApp Messenger</td>\n",
       "      <td>132820159</td>\n",
       "      <td>5000.0 M</td>\n",
       "      <td>4.16</td>\n",
       "      <td>1.3</td>\n",
       "      <td>2.8</td>\n",
       "      <td>0.0</td>\n",
       "      <td>GAME FAMILY</td>\n",
       "      <td>89826657</td>\n",
       "      <td>13399678</td>\n",
       "      <td>7742411</td>\n",
       "      <td>4404948</td>\n",
       "      <td>17446463</td>\n",
       "      <td>False</td>\n",
       "    </tr>\n",
       "    <tr>\n",
       "      <th>825</th>\n",
       "      <td>2</td>\n",
       "      <td>Instagram</td>\n",
       "      <td>115159158</td>\n",
       "      <td>1000.0 M</td>\n",
       "      <td>4.35</td>\n",
       "      <td>1.2</td>\n",
       "      <td>2.4</td>\n",
       "      <td>0.0</td>\n",
       "      <td>GAME FAMILY</td>\n",
       "      <td>84694156</td>\n",
       "      <td>11188324</td>\n",
       "      <td>5387770</td>\n",
       "      <td>3002076</td>\n",
       "      <td>10886830</td>\n",
       "      <td>False</td>\n",
       "    </tr>\n",
       "    <tr>\n",
       "      <th>826</th>\n",
       "      <td>3</td>\n",
       "      <td>Facebook</td>\n",
       "      <td>108705138</td>\n",
       "      <td>5000.0 M</td>\n",
       "      <td>4.07</td>\n",
       "      <td>0.7</td>\n",
       "      <td>1.6</td>\n",
       "      <td>0.0</td>\n",
       "      <td>GAME FAMILY</td>\n",
       "      <td>71703602</td>\n",
       "      <td>10086692</td>\n",
       "      <td>6314913</td>\n",
       "      <td>3740935</td>\n",
       "      <td>16858993</td>\n",
       "      <td>False</td>\n",
       "    </tr>\n",
       "    <tr>\n",
       "      <th>827</th>\n",
       "      <td>4</td>\n",
       "      <td>YouTube</td>\n",
       "      <td>97516121</td>\n",
       "      <td>5000.0 M</td>\n",
       "      <td>4.15</td>\n",
       "      <td>2.6</td>\n",
       "      <td>5.0</td>\n",
       "      <td>0.0</td>\n",
       "      <td>GAME FAMILY</td>\n",
       "      <td>66109388</td>\n",
       "      <td>8904858</td>\n",
       "      <td>6193552</td>\n",
       "      <td>3565608</td>\n",
       "      <td>12742712</td>\n",
       "      <td>False</td>\n",
       "    </tr>\n",
       "    <tr>\n",
       "      <th>828</th>\n",
       "      <td>5</td>\n",
       "      <td>Garena Free Fire - The Cobra</td>\n",
       "      <td>80678661</td>\n",
       "      <td>500.0 M</td>\n",
       "      <td>4.33</td>\n",
       "      <td>2.9</td>\n",
       "      <td>7.9</td>\n",
       "      <td>0.0</td>\n",
       "      <td>GAME FAMILY</td>\n",
       "      <td>61935712</td>\n",
       "      <td>4478738</td>\n",
       "      <td>2795172</td>\n",
       "      <td>1814999</td>\n",
       "      <td>9654037</td>\n",
       "      <td>False</td>\n",
       "    </tr>\n",
       "  </tbody>\n",
       "</table>\n",
       "</div>"
      ],
      "text/plain": [
       "     rank                         title  total ratings  installs  \\\n",
       "824     1            WhatsApp Messenger      132820159  5000.0 M   \n",
       "825     2                     Instagram      115159158  1000.0 M   \n",
       "826     3                      Facebook      108705138  5000.0 M   \n",
       "827     4                       YouTube       97516121  5000.0 M   \n",
       "828     5  Garena Free Fire - The Cobra       80678661   500.0 M   \n",
       "\n",
       "     average rating  growth (30 days)  growth (60 days)  price     category  \\\n",
       "824            4.16               1.3               2.8    0.0  GAME FAMILY   \n",
       "825            4.35               1.2               2.4    0.0  GAME FAMILY   \n",
       "826            4.07               0.7               1.6    0.0  GAME FAMILY   \n",
       "827            4.15               2.6               5.0    0.0  GAME FAMILY   \n",
       "828            4.33               2.9               7.9    0.0  GAME FAMILY   \n",
       "\n",
       "     5 star ratings  4 star ratings  3 star ratings  2 star ratings  \\\n",
       "824        89826657        13399678         7742411         4404948   \n",
       "825        84694156        11188324         5387770         3002076   \n",
       "826        71703602        10086692         6314913         3740935   \n",
       "827        66109388         8904858         6193552         3565608   \n",
       "828        61935712         4478738         2795172         1814999   \n",
       "\n",
       "     1 star ratings   paid  \n",
       "824        17446463  False  \n",
       "825        10886830  False  \n",
       "826        16858993  False  \n",
       "827        12742712  False  \n",
       "828         9654037  False  "
      ]
     },
     "execution_count": 62,
     "metadata": {},
     "output_type": "execute_result"
    }
   ],
   "source": [
    "#the five games with the highest ratings\n",
    "android.iloc[824:829]"
   ]
  },
  {
   "cell_type": "markdown",
   "metadata": {},
   "source": [
    "# note question three and six have been suspended till futher notice"
   ]
  },
  {
   "cell_type": "code",
   "execution_count": null,
   "metadata": {},
   "outputs": [],
   "source": []
  }
 ],
 "metadata": {
  "kernelspec": {
   "display_name": "Python 3",
   "language": "python",
   "name": "python3"
  },
  "language_info": {
   "codemirror_mode": {
    "name": "ipython",
    "version": 3
   },
   "file_extension": ".py",
   "mimetype": "text/x-python",
   "name": "python",
   "nbconvert_exporter": "python",
   "pygments_lexer": "ipython3",
   "version": "3.8.5"
  }
 },
 "nbformat": 4,
 "nbformat_minor": 4
}
